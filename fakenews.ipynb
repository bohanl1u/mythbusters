{
 "cells": [
  {
   "cell_type": "code",
   "execution_count": 10,
   "id": "charged-exemption",
   "metadata": {},
   "outputs": [],
   "source": [
    "import pandas as pd\n",
    "from sklearn.feature_extraction.text import TfidfVectorizer\n",
    "from sklearn.linear_model import PassiveAggressiveClassifier\n",
    "from sklearn.model_selection import train_test_split\n",
    "from sklearn.metrics import accuracy_score, confusion_matrix\n",
    "from sklearn.model_selection import cross_val_score\n"
   ]
  },
  {
   "cell_type": "code",
   "execution_count": 2,
   "id": "focal-corrections",
   "metadata": {},
   "outputs": [
    {
     "data": {
      "text/plain": [
       "Fake    10413\n",
       "Real    10387\n",
       "Name: label, dtype: int64"
      ]
     },
     "execution_count": 2,
     "metadata": {},
     "output_type": "execute_result"
    }
   ],
   "source": [
    "df = pd.read_csv(\"Tests/train.csv\")\n",
    "conversion_dict = {0: 'Real', 1: 'Fake'}\n",
    "df['label']=df['label'].replace(conversion_dict)\n",
    "df.label.value_counts()\n"
   ]
  },
  {
   "cell_type": "code",
   "execution_count": 3,
   "id": "sufficient-dover",
   "metadata": {},
   "outputs": [],
   "source": [
    "x_train,x_test,y_train,y_test=train_test_split(df['text'], df['label'], test_size=0.25, random_state=7, shuffle=True)\n",
    "tfidf_vectorizer=TfidfVectorizer(stop_words='english',max_df=0.75)"
   ]
  },
  {
   "cell_type": "code",
   "execution_count": 4,
   "id": "composite-tourism",
   "metadata": {},
   "outputs": [],
   "source": [
    "vec_train=tfidf_vectorizer.fit_transform(x_train.values.astype('U'))\n",
    "vec_test=tfidf_vectorizer.transform(x_test.values.astype('U'))"
   ]
  },
  {
   "cell_type": "code",
   "execution_count": 5,
   "id": "dental-springer",
   "metadata": {},
   "outputs": [
    {
     "data": {
      "text/plain": [
       "PassiveAggressiveClassifier(max_iter=100)"
      ]
     },
     "execution_count": 5,
     "metadata": {},
     "output_type": "execute_result"
    }
   ],
   "source": [
    "pac=PassiveAggressiveClassifier(max_iter=100)\n",
    "pac.fit(vec_train,y_train)"
   ]
  },
  {
   "cell_type": "code",
   "execution_count": 6,
   "id": "mighty-matthew",
   "metadata": {},
   "outputs": [
    {
     "name": "stdout",
     "output_type": "stream",
     "text": [
      "PAC Accuracy: 96.25%\n"
     ]
    }
   ],
   "source": [
    "y_pred=pac.predict(vec_test)\n",
    "score=accuracy_score(y_test,y_pred)\n",
    "print(f'PAC Accuracy: {round(score*100,2)}%')"
   ]
  },
  {
   "cell_type": "code",
   "execution_count": 7,
   "id": "desirable-marking",
   "metadata": {},
   "outputs": [
    {
     "data": {
      "text/plain": [
       "array([[2486,  100],\n",
       "       [  95, 2519]])"
      ]
     },
     "execution_count": 7,
     "metadata": {},
     "output_type": "execute_result"
    }
   ],
   "source": [
    "confusion_matrix(y_test,y_pred, labels=['Real','Fake'])"
   ]
  },
  {
   "cell_type": "code",
   "execution_count": 12,
   "id": "level-arthritis",
   "metadata": {},
   "outputs": [],
   "source": [
    "df_true=pd.read_csv('Tests/True.csv')\n",
    "df_true['label']='Real'\n",
    "df_fake=pd.read_csv('Tests/Fake.csv')\n",
    "df_fake['label']='Fake'\n"
   ]
  },
  {
   "cell_type": "code",
   "execution_count": 16,
   "id": "rising-jacob",
   "metadata": {},
   "outputs": [],
   "source": [
    "import anvil.server\n",
    "anvil.server.connect(\"FLT4TSA2SOJ4BXHG7GIZP76C-OBKC5XK2K2JFWDV5\")"
   ]
  },
  {
   "cell_type": "code",
   "execution_count": 17,
   "id": "electoral-respect",
   "metadata": {},
   "outputs": [],
   "source": [
    "@anvil.server.callable\n",
    "def findlabel(newtext):\n",
    "    vec_newtest=tfidf_vectorizer.transform([newtext])\n",
    "    y_predl=pac.predict(vec_newtest)\n",
    "    return y_predl[0]"
   ]
  }
 ],
 "metadata": {
  "kernelspec": {
   "display_name": "Python 3",
   "language": "python",
   "name": "python3"
  },
  "language_info": {
   "codemirror_mode": {
    "name": "ipython",
    "version": 3
   },
   "file_extension": ".py",
   "mimetype": "text/x-python",
   "name": "python",
   "nbconvert_exporter": "python",
   "pygments_lexer": "ipython3",
   "version": "3.8.5"
  }
 },
 "nbformat": 4,
 "nbformat_minor": 5
}
